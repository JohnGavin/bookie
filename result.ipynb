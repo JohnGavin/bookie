{
 "cells": [
  {
   "cell_type": "code",
   "execution_count": 1,
   "metadata": {},
   "outputs": [
    {
     "name": "stdout",
     "output_type": "stream",
     "text": [
      "Populating the interactive namespace from numpy and matplotlib\n"
     ]
    }
   ],
   "source": [
    "%pylab inline\n",
    "from scipy.optimize import curve_fit\n",
    "import pandas as pd\n",
    "import seaborn as sns\n",
    "import numpy as np\n",
    "import scipy \n",
    "import matplotlib.pyplot as plt\n",
    "import matplotlib.style as style\n",
    "import itertools\n",
    "from sklearn.linear_model import LogisticRegression\n",
    "import sys\n",
    "\n",
    "import warnings\n",
    "warnings.filterwarnings('ignore')\n"
   ]
  },
  {
   "cell_type": "code",
   "execution_count": 2,
   "metadata": {},
   "outputs": [],
   "source": [
    "df_home = pd.read_excel('df_team_with_past_FTHG_home.xlsx')\n",
    "df_away = pd.read_excel('df_team_with_past_FTAG_away.xlsx')"
   ]
  },
  {
   "cell_type": "code",
   "execution_count": 3,
   "metadata": {},
   "outputs": [
    {
     "data": {
      "text/plain": [
       "Index(['Unnamed: 0', 'Day', 'Month', 'Year', 'HomeTeam', 'AwayTeam', 'FTHG',\n",
       "       'FTAG', 'HTGDIFF', 'ATGDIFF', 'AVGHTGDIFF', 'AVGFTHG', 'HS', 'AS',\n",
       "       'HST', 'AST', 'HC', 'AC', 'HF', 'AF', 'HY', 'AY', 'HR', 'AR',\n",
       "       'HTGDIFF_1', 'HTGDIFF_2', 'HTGDIFF_3', 'HTGDIFF_4', 'HTGDIFF_5',\n",
       "       'HTGDIFF_6', 'HTGDIFF_7', 'HTGDIFF_8', 'HTGDIFF_9', 'HTGDIFF_10',\n",
       "       'HST_1', 'HST_2', 'HST_3', 'HST_4', 'HST_5', 'HST_6', 'HST_7', 'HST_8',\n",
       "       'HST_9', 'HST_10', 'FTHG_1', 'FTHG_2', 'FTHG_3', 'FTHG_4', 'FTHG_5',\n",
       "       'FTHG_6', 'FTHG_7', 'FTHG_8', 'FTHG_9', 'FTHG_10'],\n",
       "      dtype='object')"
      ]
     },
     "execution_count": 3,
     "metadata": {},
     "output_type": "execute_result"
    }
   ],
   "source": [
    "df_home.columns"
   ]
  },
  {
   "cell_type": "code",
   "execution_count": 4,
   "metadata": {
    "scrolled": true
   },
   "outputs": [
    {
     "data": {
      "text/plain": [
       "Index(['Unnamed: 0', 'Day', 'Month', 'Year', 'HomeTeam', 'AwayTeam', 'FTHG',\n",
       "       'FTAG', 'HTGDIFF', 'ATGDIFF', 'AVGATGDIFF', 'AVGFTAG', 'HS', 'AS',\n",
       "       'HST', 'AST', 'HC', 'AC', 'HF', 'AF', 'HY', 'AY', 'HR', 'AR',\n",
       "       'ATGDIFF_1', 'ATGDIFF_2', 'ATGDIFF_3', 'ATGDIFF_4', 'ATGDIFF_5',\n",
       "       'ATGDIFF_6', 'ATGDIFF_7', 'ATGDIFF_8', 'ATGDIFF_9', 'ATGDIFF_10',\n",
       "       'AST_1', 'AST_2', 'AST_3', 'AST_4', 'AST_5', 'AST_6', 'AST_7', 'AST_8',\n",
       "       'AST_9', 'AST_10', 'FTAG_1', 'FTAG_2', 'FTAG_3', 'FTAG_4', 'FTAG_5',\n",
       "       'FTAG_6', 'FTAG_7', 'FTAG_8', 'FTAG_9', 'FTAG_10'],\n",
       "      dtype='object')"
      ]
     },
     "execution_count": 4,
     "metadata": {},
     "output_type": "execute_result"
    }
   ],
   "source": [
    "df_away.columns"
   ]
  },
  {
   "cell_type": "code",
   "execution_count": 5,
   "metadata": {},
   "outputs": [],
   "source": [
    "cols_to_use = df_home.columns.difference(df_away.columns)"
   ]
  },
  {
   "cell_type": "code",
   "execution_count": 6,
   "metadata": {
    "scrolled": true
   },
   "outputs": [
    {
     "data": {
      "text/plain": [
       "Index(['AVGFTHG', 'AVGHTGDIFF', 'FTHG_1', 'FTHG_10', 'FTHG_2', 'FTHG_3',\n",
       "       'FTHG_4', 'FTHG_5', 'FTHG_6', 'FTHG_7', 'FTHG_8', 'FTHG_9', 'HST_1',\n",
       "       'HST_10', 'HST_2', 'HST_3', 'HST_4', 'HST_5', 'HST_6', 'HST_7', 'HST_8',\n",
       "       'HST_9', 'HTGDIFF_1', 'HTGDIFF_10', 'HTGDIFF_2', 'HTGDIFF_3',\n",
       "       'HTGDIFF_4', 'HTGDIFF_5', 'HTGDIFF_6', 'HTGDIFF_7', 'HTGDIFF_8',\n",
       "       'HTGDIFF_9'],\n",
       "      dtype='object')"
      ]
     },
     "execution_count": 6,
     "metadata": {},
     "output_type": "execute_result"
    }
   ],
   "source": [
    "cols_to_use"
   ]
  },
  {
   "cell_type": "code",
   "execution_count": 7,
   "metadata": {},
   "outputs": [],
   "source": [
    "df_both = pd.merge(df_away, df_home[cols_to_use], left_index=True, right_index=True, how='outer')"
   ]
  },
  {
   "cell_type": "code",
   "execution_count": 8,
   "metadata": {},
   "outputs": [
    {
     "data": {
      "text/plain": [
       "array(['Unnamed: 0', 'Day', 'Month', 'Year', 'HomeTeam', 'AwayTeam',\n",
       "       'FTHG', 'FTAG', 'HTGDIFF', 'ATGDIFF', 'AVGATGDIFF', 'AVGFTAG',\n",
       "       'HS', 'AS', 'HST', 'AST', 'HC', 'AC', 'HF', 'AF', 'HY', 'AY', 'HR',\n",
       "       'AR', 'ATGDIFF_1', 'ATGDIFF_2', 'ATGDIFF_3', 'ATGDIFF_4',\n",
       "       'ATGDIFF_5', 'ATGDIFF_6', 'ATGDIFF_7', 'ATGDIFF_8', 'ATGDIFF_9',\n",
       "       'ATGDIFF_10', 'AST_1', 'AST_2', 'AST_3', 'AST_4', 'AST_5', 'AST_6',\n",
       "       'AST_7', 'AST_8', 'AST_9', 'AST_10', 'FTAG_1', 'FTAG_2', 'FTAG_3',\n",
       "       'FTAG_4', 'FTAG_5', 'FTAG_6', 'FTAG_7', 'FTAG_8', 'FTAG_9',\n",
       "       'FTAG_10', 'AVGFTHG', 'AVGHTGDIFF', 'FTHG_1', 'FTHG_10', 'FTHG_2',\n",
       "       'FTHG_3', 'FTHG_4', 'FTHG_5', 'FTHG_6', 'FTHG_7', 'FTHG_8',\n",
       "       'FTHG_9', 'HST_1', 'HST_10', 'HST_2', 'HST_3', 'HST_4', 'HST_5',\n",
       "       'HST_6', 'HST_7', 'HST_8', 'HST_9', 'HTGDIFF_1', 'HTGDIFF_10',\n",
       "       'HTGDIFF_2', 'HTGDIFF_3', 'HTGDIFF_4', 'HTGDIFF_5', 'HTGDIFF_6',\n",
       "       'HTGDIFF_7', 'HTGDIFF_8', 'HTGDIFF_9'], dtype=object)"
      ]
     },
     "execution_count": 8,
     "metadata": {},
     "output_type": "execute_result"
    }
   ],
   "source": [
    "df_both.columns.values"
   ]
  },
  {
   "cell_type": "code",
   "execution_count": 9,
   "metadata": {},
   "outputs": [],
   "source": [
    "df_both['W'], df_both['D'], df_both['L'] = [0, 0, 0]"
   ]
  },
  {
   "cell_type": "code",
   "execution_count": 10,
   "metadata": {},
   "outputs": [],
   "source": [
    "del df_both['Unnamed: 0']"
   ]
  },
  {
   "cell_type": "code",
   "execution_count": 11,
   "metadata": {},
   "outputs": [
    {
     "data": {
      "text/plain": [
       "Index(['Day', 'Month', 'Year', 'HomeTeam', 'AwayTeam', 'FTHG', 'FTAG',\n",
       "       'HTGDIFF', 'ATGDIFF', 'AVGATGDIFF', 'AVGFTAG', 'HS', 'AS', 'HST', 'AST',\n",
       "       'HC', 'AC', 'HF', 'AF', 'HY', 'AY', 'HR', 'AR', 'ATGDIFF_1',\n",
       "       'ATGDIFF_2', 'ATGDIFF_3', 'ATGDIFF_4', 'ATGDIFF_5', 'ATGDIFF_6',\n",
       "       'ATGDIFF_7', 'ATGDIFF_8', 'ATGDIFF_9', 'ATGDIFF_10', 'AST_1', 'AST_2',\n",
       "       'AST_3', 'AST_4', 'AST_5', 'AST_6', 'AST_7', 'AST_8', 'AST_9', 'AST_10',\n",
       "       'FTAG_1', 'FTAG_2', 'FTAG_3', 'FTAG_4', 'FTAG_5', 'FTAG_6', 'FTAG_7',\n",
       "       'FTAG_8', 'FTAG_9', 'FTAG_10', 'AVGFTHG', 'AVGHTGDIFF', 'FTHG_1',\n",
       "       'FTHG_10', 'FTHG_2', 'FTHG_3', 'FTHG_4', 'FTHG_5', 'FTHG_6', 'FTHG_7',\n",
       "       'FTHG_8', 'FTHG_9', 'HST_1', 'HST_10', 'HST_2', 'HST_3', 'HST_4',\n",
       "       'HST_5', 'HST_6', 'HST_7', 'HST_8', 'HST_9', 'HTGDIFF_1', 'HTGDIFF_10',\n",
       "       'HTGDIFF_2', 'HTGDIFF_3', 'HTGDIFF_4', 'HTGDIFF_5', 'HTGDIFF_6',\n",
       "       'HTGDIFF_7', 'HTGDIFF_8', 'HTGDIFF_9', 'W', 'D', 'L'],\n",
       "      dtype='object')"
      ]
     },
     "execution_count": 11,
     "metadata": {},
     "output_type": "execute_result"
    }
   ],
   "source": [
    "df_both.columns"
   ]
  },
  {
   "cell_type": "code",
   "execution_count": 12,
   "metadata": {},
   "outputs": [],
   "source": [
    "df_both = df_both.reindex(columns = ['Day', 'Month', 'Year', 'HomeTeam', 'AwayTeam', 'FTHG', 'FTAG', 'W', 'D', 'L',\n",
    "       'HTGDIFF', 'ATGDIFF', 'AVGATGDIFF', 'AVGFTAG', 'HS', 'AS', 'HST', 'AST',\n",
    "       'HC', 'AC', 'HF', 'AF', 'HY', 'AY', 'HR', 'AR', 'ATGDIFF_1',\n",
    "       'ATGDIFF_2', 'ATGDIFF_3', 'ATGDIFF_4', 'ATGDIFF_5', 'ATGDIFF_6',\n",
    "       'ATGDIFF_7', 'ATGDIFF_8', 'ATGDIFF_9', 'ATGDIFF_10', 'AST_1', 'AST_2',\n",
    "       'AST_3', 'AST_4', 'AST_5', 'AST_6', 'AST_7', 'AST_8', 'AST_9', 'AST_10',\n",
    "       'FTAG_1', 'FTAG_2', 'FTAG_3', 'FTAG_4', 'FTAG_5', 'FTAG_6', 'FTAG_7',\n",
    "       'FTAG_8', 'FTAG_9', 'FTAG_10', 'AVGFTHG', 'AVGHTGDIFF', 'FTHG_1',\n",
    "       'FTHG_10', 'FTHG_2', 'FTHG_3', 'FTHG_4', 'FTHG_5', 'FTHG_6', 'FTHG_7',\n",
    "       'FTHG_8', 'FTHG_9', 'HST_1', 'HST_10', 'HST_2', 'HST_3', 'HST_4',\n",
    "       'HST_5', 'HST_6', 'HST_7', 'HST_8', 'HST_9', 'HTGDIFF_1', 'HTGDIFF_10',\n",
    "       'HTGDIFF_2', 'HTGDIFF_3', 'HTGDIFF_4', 'HTGDIFF_5', 'HTGDIFF_6',\n",
    "       'HTGDIFF_7', 'HTGDIFF_8', 'HTGDIFF_9'])"
   ]
  },
  {
   "cell_type": "code",
   "execution_count": 13,
   "metadata": {},
   "outputs": [],
   "source": [
    "df_both.to_excel('both.xlsx')"
   ]
  },
  {
   "cell_type": "code",
   "execution_count": null,
   "metadata": {},
   "outputs": [],
   "source": []
  },
  {
   "cell_type": "code",
   "execution_count": null,
   "metadata": {},
   "outputs": [],
   "source": []
  }
 ],
 "metadata": {
  "kernelspec": {
   "display_name": "Python 3",
   "language": "python",
   "name": "python3"
  },
  "language_info": {
   "codemirror_mode": {
    "name": "ipython",
    "version": 3
   },
   "file_extension": ".py",
   "mimetype": "text/x-python",
   "name": "python",
   "nbconvert_exporter": "python",
   "pygments_lexer": "ipython3",
   "version": "3.7.5"
  }
 },
 "nbformat": 4,
 "nbformat_minor": 2
}
