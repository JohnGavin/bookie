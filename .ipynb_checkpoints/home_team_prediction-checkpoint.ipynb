{
 "cells": [
  {
   "cell_type": "code",
   "execution_count": 1,
   "metadata": {},
   "outputs": [
    {
     "name": "stdout",
     "output_type": "stream",
     "text": [
      "Populating the interactive namespace from numpy and matplotlib\n"
     ]
    }
   ],
   "source": [
    "%pylab inline\n",
    "from scipy.optimize import curve_fit\n",
    "import pandas as pd\n",
    "import pandas as pd\n",
    "import seaborn as sns\n",
    "import numpy as np\n",
    "import scipy \n",
    "import matplotlib.pyplot as plt\n",
    "import matplotlib.style as style\n",
    "import itertools\n",
    "from sklearn.linear_model import LogisticRegression\n",
    "import sys\n",
    "\n",
    "import warnings\n",
    "warnings.filterwarnings('ignore')\n"
   ]
  },
  {
   "cell_type": "code",
   "execution_count": 2,
   "metadata": {},
   "outputs": [],
   "source": [
    "df_both_seasons_home = pd.read_pickle('df_both_seasons_essentials')"
   ]
  },
  {
   "cell_type": "code",
   "execution_count": 3,
   "metadata": {},
   "outputs": [
    {
     "data": {
      "text/html": [
       "<div>\n",
       "<style scoped>\n",
       "    .dataframe tbody tr th:only-of-type {\n",
       "        vertical-align: middle;\n",
       "    }\n",
       "\n",
       "    .dataframe tbody tr th {\n",
       "        vertical-align: top;\n",
       "    }\n",
       "\n",
       "    .dataframe thead th {\n",
       "        text-align: right;\n",
       "    }\n",
       "</style>\n",
       "<table border=\"1\" class=\"dataframe\">\n",
       "  <thead>\n",
       "    <tr style=\"text-align: right;\">\n",
       "      <th></th>\n",
       "      <th>Day</th>\n",
       "      <th>Month</th>\n",
       "      <th>Year</th>\n",
       "      <th>HomeTeam</th>\n",
       "      <th>AwayTeam</th>\n",
       "      <th>FTHG</th>\n",
       "      <th>FTAG</th>\n",
       "      <th>HS</th>\n",
       "      <th>AS</th>\n",
       "      <th>HST</th>\n",
       "      <th>...</th>\n",
       "      <th>HC</th>\n",
       "      <th>AC</th>\n",
       "      <th>HF</th>\n",
       "      <th>AF</th>\n",
       "      <th>HY</th>\n",
       "      <th>AY</th>\n",
       "      <th>HR</th>\n",
       "      <th>AR</th>\n",
       "      <th>HTGDIFF</th>\n",
       "      <th>ATGDIFF</th>\n",
       "    </tr>\n",
       "  </thead>\n",
       "  <tbody>\n",
       "    <tr>\n",
       "      <th>133</th>\n",
       "      <td>15</td>\n",
       "      <td>12</td>\n",
       "      <td>2019</td>\n",
       "      <td>Wolfsburg</td>\n",
       "      <td>M'gladbach</td>\n",
       "      <td>NaN</td>\n",
       "      <td>NaN</td>\n",
       "      <td>NaN</td>\n",
       "      <td>NaN</td>\n",
       "      <td>NaN</td>\n",
       "      <td>...</td>\n",
       "      <td>NaN</td>\n",
       "      <td>NaN</td>\n",
       "      <td>NaN</td>\n",
       "      <td>NaN</td>\n",
       "      <td>NaN</td>\n",
       "      <td>NaN</td>\n",
       "      <td>NaN</td>\n",
       "      <td>NaN</td>\n",
       "      <td>NaN</td>\n",
       "      <td>NaN</td>\n",
       "    </tr>\n",
       "    <tr>\n",
       "      <th>134</th>\n",
       "      <td>15</td>\n",
       "      <td>12</td>\n",
       "      <td>2019</td>\n",
       "      <td>Schalke 04</td>\n",
       "      <td>Ein Frankfurt</td>\n",
       "      <td>NaN</td>\n",
       "      <td>NaN</td>\n",
       "      <td>NaN</td>\n",
       "      <td>NaN</td>\n",
       "      <td>NaN</td>\n",
       "      <td>...</td>\n",
       "      <td>NaN</td>\n",
       "      <td>NaN</td>\n",
       "      <td>NaN</td>\n",
       "      <td>NaN</td>\n",
       "      <td>NaN</td>\n",
       "      <td>NaN</td>\n",
       "      <td>NaN</td>\n",
       "      <td>NaN</td>\n",
       "      <td>NaN</td>\n",
       "      <td>NaN</td>\n",
       "    </tr>\n",
       "    <tr>\n",
       "      <th>127</th>\n",
       "      <td>14</td>\n",
       "      <td>12</td>\n",
       "      <td>2019</td>\n",
       "      <td>Bayern Munich</td>\n",
       "      <td>Werder Bremen</td>\n",
       "      <td>NaN</td>\n",
       "      <td>NaN</td>\n",
       "      <td>NaN</td>\n",
       "      <td>NaN</td>\n",
       "      <td>NaN</td>\n",
       "      <td>...</td>\n",
       "      <td>NaN</td>\n",
       "      <td>NaN</td>\n",
       "      <td>NaN</td>\n",
       "      <td>NaN</td>\n",
       "      <td>NaN</td>\n",
       "      <td>NaN</td>\n",
       "      <td>NaN</td>\n",
       "      <td>NaN</td>\n",
       "      <td>NaN</td>\n",
       "      <td>NaN</td>\n",
       "    </tr>\n",
       "    <tr>\n",
       "      <th>128</th>\n",
       "      <td>14</td>\n",
       "      <td>12</td>\n",
       "      <td>2019</td>\n",
       "      <td>Hertha</td>\n",
       "      <td>Freiburg</td>\n",
       "      <td>NaN</td>\n",
       "      <td>NaN</td>\n",
       "      <td>NaN</td>\n",
       "      <td>NaN</td>\n",
       "      <td>NaN</td>\n",
       "      <td>...</td>\n",
       "      <td>NaN</td>\n",
       "      <td>NaN</td>\n",
       "      <td>NaN</td>\n",
       "      <td>NaN</td>\n",
       "      <td>NaN</td>\n",
       "      <td>NaN</td>\n",
       "      <td>NaN</td>\n",
       "      <td>NaN</td>\n",
       "      <td>NaN</td>\n",
       "      <td>NaN</td>\n",
       "    </tr>\n",
       "    <tr>\n",
       "      <th>129</th>\n",
       "      <td>14</td>\n",
       "      <td>12</td>\n",
       "      <td>2019</td>\n",
       "      <td>Mainz</td>\n",
       "      <td>Dortmund</td>\n",
       "      <td>NaN</td>\n",
       "      <td>NaN</td>\n",
       "      <td>NaN</td>\n",
       "      <td>NaN</td>\n",
       "      <td>NaN</td>\n",
       "      <td>...</td>\n",
       "      <td>NaN</td>\n",
       "      <td>NaN</td>\n",
       "      <td>NaN</td>\n",
       "      <td>NaN</td>\n",
       "      <td>NaN</td>\n",
       "      <td>NaN</td>\n",
       "      <td>NaN</td>\n",
       "      <td>NaN</td>\n",
       "      <td>NaN</td>\n",
       "      <td>NaN</td>\n",
       "    </tr>\n",
       "  </tbody>\n",
       "</table>\n",
       "<p>5 rows × 21 columns</p>\n",
       "</div>"
      ],
      "text/plain": [
       "     Day  Month  Year       HomeTeam       AwayTeam  FTHG  FTAG  HS  AS  HST  \\\n",
       "133   15     12  2019      Wolfsburg     M'gladbach   NaN   NaN NaN NaN  NaN   \n",
       "134   15     12  2019     Schalke 04  Ein Frankfurt   NaN   NaN NaN NaN  NaN   \n",
       "127   14     12  2019  Bayern Munich  Werder Bremen   NaN   NaN NaN NaN  NaN   \n",
       "128   14     12  2019         Hertha       Freiburg   NaN   NaN NaN NaN  NaN   \n",
       "129   14     12  2019          Mainz       Dortmund   NaN   NaN NaN NaN  NaN   \n",
       "\n",
       "     ...  HC  AC  HF  AF  HY  AY  HR  AR  HTGDIFF  ATGDIFF  \n",
       "133  ... NaN NaN NaN NaN NaN NaN NaN NaN      NaN      NaN  \n",
       "134  ... NaN NaN NaN NaN NaN NaN NaN NaN      NaN      NaN  \n",
       "127  ... NaN NaN NaN NaN NaN NaN NaN NaN      NaN      NaN  \n",
       "128  ... NaN NaN NaN NaN NaN NaN NaN NaN      NaN      NaN  \n",
       "129  ... NaN NaN NaN NaN NaN NaN NaN NaN      NaN      NaN  \n",
       "\n",
       "[5 rows x 21 columns]"
      ]
     },
     "execution_count": 3,
     "metadata": {},
     "output_type": "execute_result"
    }
   ],
   "source": [
    "df_both_seasons_home.head()"
   ]
  },
  {
   "cell_type": "markdown",
   "metadata": {},
   "source": [
    "## Add avg Home Team Goal Difference"
   ]
  },
  {
   "cell_type": "code",
   "execution_count": 4,
   "metadata": {},
   "outputs": [],
   "source": [
    "df_both_seasons_home['AVGHTGDIFF'] = 0\n",
    "avg_per_team = {}\n",
    "all_teams = df_both_seasons_home.HomeTeam.unique()\n",
    "for t in all_teams:\n",
    "    df_team = df_both_seasons_home[df_both_seasons_home['HomeTeam']==t]\n",
    "    AVGHTGDIFF = df_team.HTGDIFF.rolling(\n",
    "        len(df_team.HomeTeam), win_type=None, min_periods=1\n",
    "    ).mean()\n",
    "    df_team['AVGHTGDIFF'] = AVGHTGDIFF.values[::-1]\n",
    "    avg_per_team[t] = df_team"
   ]
  },
  {
   "cell_type": "code",
   "execution_count": 5,
   "metadata": {},
   "outputs": [],
   "source": [
    "def from_dict_value_to_df(d):\n",
    "    \"\"\"\n",
    "    input = dictionary \n",
    "    output = dataframe as part of all the values from the dictionary\n",
    "    \"\"\"\n",
    "    df = pd.DataFrame()\n",
    "    for v in d.values():\n",
    "        df = df.append(v)\n",
    "    return df"
   ]
  },
  {
   "cell_type": "code",
   "execution_count": 6,
   "metadata": {},
   "outputs": [],
   "source": [
    "df_both_seasons = from_dict_value_to_df(avg_per_team)"
   ]
  },
  {
   "cell_type": "code",
   "execution_count": 7,
   "metadata": {},
   "outputs": [],
   "source": [
    "df_both_seasons=df_both_seasons.sort_values(['Year', 'Month','Day'], ascending=False)"
   ]
  },
  {
   "cell_type": "code",
   "execution_count": 8,
   "metadata": {},
   "outputs": [
    {
     "data": {
      "text/html": [
       "<div>\n",
       "<style scoped>\n",
       "    .dataframe tbody tr th:only-of-type {\n",
       "        vertical-align: middle;\n",
       "    }\n",
       "\n",
       "    .dataframe tbody tr th {\n",
       "        vertical-align: top;\n",
       "    }\n",
       "\n",
       "    .dataframe thead th {\n",
       "        text-align: right;\n",
       "    }\n",
       "</style>\n",
       "<table border=\"1\" class=\"dataframe\">\n",
       "  <thead>\n",
       "    <tr style=\"text-align: right;\">\n",
       "      <th></th>\n",
       "      <th>Day</th>\n",
       "      <th>Month</th>\n",
       "      <th>Year</th>\n",
       "      <th>HomeTeam</th>\n",
       "      <th>AwayTeam</th>\n",
       "      <th>FTHG</th>\n",
       "      <th>FTAG</th>\n",
       "      <th>HS</th>\n",
       "      <th>AS</th>\n",
       "      <th>HST</th>\n",
       "      <th>...</th>\n",
       "      <th>AC</th>\n",
       "      <th>HF</th>\n",
       "      <th>AF</th>\n",
       "      <th>HY</th>\n",
       "      <th>AY</th>\n",
       "      <th>HR</th>\n",
       "      <th>AR</th>\n",
       "      <th>HTGDIFF</th>\n",
       "      <th>ATGDIFF</th>\n",
       "      <th>AVGHTGDIFF</th>\n",
       "    </tr>\n",
       "  </thead>\n",
       "  <tbody>\n",
       "    <tr>\n",
       "      <th>133</th>\n",
       "      <td>15</td>\n",
       "      <td>12</td>\n",
       "      <td>2019</td>\n",
       "      <td>Wolfsburg</td>\n",
       "      <td>M'gladbach</td>\n",
       "      <td>NaN</td>\n",
       "      <td>NaN</td>\n",
       "      <td>NaN</td>\n",
       "      <td>NaN</td>\n",
       "      <td>NaN</td>\n",
       "      <td>...</td>\n",
       "      <td>NaN</td>\n",
       "      <td>NaN</td>\n",
       "      <td>NaN</td>\n",
       "      <td>NaN</td>\n",
       "      <td>NaN</td>\n",
       "      <td>NaN</td>\n",
       "      <td>NaN</td>\n",
       "      <td>NaN</td>\n",
       "      <td>NaN</td>\n",
       "      <td>0.500000</td>\n",
       "    </tr>\n",
       "    <tr>\n",
       "      <th>134</th>\n",
       "      <td>15</td>\n",
       "      <td>12</td>\n",
       "      <td>2019</td>\n",
       "      <td>Schalke 04</td>\n",
       "      <td>Ein Frankfurt</td>\n",
       "      <td>NaN</td>\n",
       "      <td>NaN</td>\n",
       "      <td>NaN</td>\n",
       "      <td>NaN</td>\n",
       "      <td>NaN</td>\n",
       "      <td>...</td>\n",
       "      <td>NaN</td>\n",
       "      <td>NaN</td>\n",
       "      <td>NaN</td>\n",
       "      <td>NaN</td>\n",
       "      <td>NaN</td>\n",
       "      <td>NaN</td>\n",
       "      <td>NaN</td>\n",
       "      <td>NaN</td>\n",
       "      <td>NaN</td>\n",
       "      <td>-0.416667</td>\n",
       "    </tr>\n",
       "    <tr>\n",
       "      <th>127</th>\n",
       "      <td>14</td>\n",
       "      <td>12</td>\n",
       "      <td>2019</td>\n",
       "      <td>Bayern Munich</td>\n",
       "      <td>Werder Bremen</td>\n",
       "      <td>NaN</td>\n",
       "      <td>NaN</td>\n",
       "      <td>NaN</td>\n",
       "      <td>NaN</td>\n",
       "      <td>NaN</td>\n",
       "      <td>...</td>\n",
       "      <td>NaN</td>\n",
       "      <td>NaN</td>\n",
       "      <td>NaN</td>\n",
       "      <td>NaN</td>\n",
       "      <td>NaN</td>\n",
       "      <td>NaN</td>\n",
       "      <td>NaN</td>\n",
       "      <td>NaN</td>\n",
       "      <td>NaN</td>\n",
       "      <td>1.958333</td>\n",
       "    </tr>\n",
       "    <tr>\n",
       "      <th>128</th>\n",
       "      <td>14</td>\n",
       "      <td>12</td>\n",
       "      <td>2019</td>\n",
       "      <td>Hertha</td>\n",
       "      <td>Freiburg</td>\n",
       "      <td>NaN</td>\n",
       "      <td>NaN</td>\n",
       "      <td>NaN</td>\n",
       "      <td>NaN</td>\n",
       "      <td>NaN</td>\n",
       "      <td>...</td>\n",
       "      <td>NaN</td>\n",
       "      <td>NaN</td>\n",
       "      <td>NaN</td>\n",
       "      <td>NaN</td>\n",
       "      <td>NaN</td>\n",
       "      <td>NaN</td>\n",
       "      <td>NaN</td>\n",
       "      <td>NaN</td>\n",
       "      <td>NaN</td>\n",
       "      <td>-0.217391</td>\n",
       "    </tr>\n",
       "    <tr>\n",
       "      <th>129</th>\n",
       "      <td>14</td>\n",
       "      <td>12</td>\n",
       "      <td>2019</td>\n",
       "      <td>Mainz</td>\n",
       "      <td>Dortmund</td>\n",
       "      <td>NaN</td>\n",
       "      <td>NaN</td>\n",
       "      <td>NaN</td>\n",
       "      <td>NaN</td>\n",
       "      <td>NaN</td>\n",
       "      <td>...</td>\n",
       "      <td>NaN</td>\n",
       "      <td>NaN</td>\n",
       "      <td>NaN</td>\n",
       "      <td>NaN</td>\n",
       "      <td>NaN</td>\n",
       "      <td>NaN</td>\n",
       "      <td>NaN</td>\n",
       "      <td>NaN</td>\n",
       "      <td>NaN</td>\n",
       "      <td>0.391304</td>\n",
       "    </tr>\n",
       "  </tbody>\n",
       "</table>\n",
       "<p>5 rows × 22 columns</p>\n",
       "</div>"
      ],
      "text/plain": [
       "     Day  Month  Year       HomeTeam       AwayTeam  FTHG  FTAG  HS  AS  HST  \\\n",
       "133   15     12  2019      Wolfsburg     M'gladbach   NaN   NaN NaN NaN  NaN   \n",
       "134   15     12  2019     Schalke 04  Ein Frankfurt   NaN   NaN NaN NaN  NaN   \n",
       "127   14     12  2019  Bayern Munich  Werder Bremen   NaN   NaN NaN NaN  NaN   \n",
       "128   14     12  2019         Hertha       Freiburg   NaN   NaN NaN NaN  NaN   \n",
       "129   14     12  2019          Mainz       Dortmund   NaN   NaN NaN NaN  NaN   \n",
       "\n",
       "     ...  AC  HF  AF  HY  AY  HR  AR  HTGDIFF  ATGDIFF  AVGHTGDIFF  \n",
       "133  ... NaN NaN NaN NaN NaN NaN NaN      NaN      NaN    0.500000  \n",
       "134  ... NaN NaN NaN NaN NaN NaN NaN      NaN      NaN   -0.416667  \n",
       "127  ... NaN NaN NaN NaN NaN NaN NaN      NaN      NaN    1.958333  \n",
       "128  ... NaN NaN NaN NaN NaN NaN NaN      NaN      NaN   -0.217391  \n",
       "129  ... NaN NaN NaN NaN NaN NaN NaN      NaN      NaN    0.391304  \n",
       "\n",
       "[5 rows x 22 columns]"
      ]
     },
     "execution_count": 8,
     "metadata": {},
     "output_type": "execute_result"
    }
   ],
   "source": [
    "df_both_seasons.head()"
   ]
  },
  {
   "cell_type": "code",
   "execution_count": 9,
   "metadata": {},
   "outputs": [],
   "source": [
    "df_both_seasons['AVGFTHG'] = 0\n",
    "avg_fthg_per_team = {}\n",
    "all_teams = df_both_seasons.HomeTeam.unique()\n",
    "for t in all_teams:\n",
    "    df_team = df_both_seasons[df_both_seasons['HomeTeam']==t]\n",
    "    AVGFTHG = df_team.FTHG.rolling(\n",
    "        len(df_team.HomeTeam), win_type=None, min_periods=1\n",
    "    ).mean()\n",
    "    df_team['AVGFTHG'] = AVGFTHG.values[::-1]\n",
    "    avg_fthg_per_team[t] = df_team"
   ]
  },
  {
   "cell_type": "code",
   "execution_count": 10,
   "metadata": {},
   "outputs": [],
   "source": [
    "df_both_seasons = from_dict_value_to_df(avg_fthg_per_team)"
   ]
  },
  {
   "cell_type": "code",
   "execution_count": 11,
   "metadata": {},
   "outputs": [],
   "source": [
    "df_both_seasons=df_both_seasons.sort_values(['Year', 'Month','Day'], ascending=False)"
   ]
  },
  {
   "cell_type": "markdown",
   "metadata": {},
   "source": [
    "## Add Columns with previous HTGDIFF for each HomeTeam"
   ]
  },
  {
   "cell_type": "code",
   "execution_count": 12,
   "metadata": {},
   "outputs": [],
   "source": [
    "d = dict()\n",
    "team_with_past_HTGDIFF = dict()\n",
    "\n",
    "for team in all_teams:\n",
    "    n_homegames = len(df_both_seasons[df_both_seasons['HomeTeam']==team])\n",
    "    team_with_past_HTGDIFF[team] = df_both_seasons[df_both_seasons['HomeTeam']==team]\n",
    "    for i in range(1, n_homegames):\n",
    "        d[i] = team_with_past_HTGDIFF[team].assign(\n",
    "            HTGDIFF_X=team_with_past_HTGDIFF[team].groupby('HomeTeam')['HTGDIFF'].shift(-i)\n",
    "        ).fillna({'HTGDIFF_X': 0})\n",
    "        team_with_past_HTGDIFF[team]['{}'.format(i)] = d[i].HTGDIFF_X"
   ]
  },
  {
   "cell_type": "code",
   "execution_count": 13,
   "metadata": {},
   "outputs": [],
   "source": [
    "df_team_with_past_HTGDIFF = from_dict_value_to_df(team_with_past_HTGDIFF)"
   ]
  },
  {
   "cell_type": "code",
   "execution_count": 14,
   "metadata": {},
   "outputs": [],
   "source": [
    "df_team_with_past_HTGDIFF = df_team_with_past_HTGDIFF.reindex(columns=[\n",
    "    'Day', 'Month', 'Year', 'HomeTeam', 'AwayTeam', 'FTHG', 'FTAG',\n",
    "    'HTGDIFF', 'ATGDIFF', 'AVGHTGDIFF','AVGFTHG', 'HS', 'AS', 'HST', 'AST', 'HC', 'AC', 'HF', 'AF', 'HY', 'AY', 'HR', 'AR', '1', '2', '3', '4', '5', '6', '7',\n",
    "    '8', '9', '10', '11', '12', '13', '14', '15', '16', '17', '18', '19',\n",
    "    '20', '21', '22', '23'\n",
    "])"
   ]
  },
  {
   "cell_type": "code",
   "execution_count": 15,
   "metadata": {},
   "outputs": [],
   "source": [
    "df_team_with_past_HTGDIFF.fillna(0, inplace=True)"
   ]
  },
  {
   "cell_type": "code",
   "execution_count": 16,
   "metadata": {},
   "outputs": [
    {
     "data": {
      "text/plain": [
       "Index(['Day', 'Month', 'Year', 'HomeTeam', 'AwayTeam', 'FTHG', 'FTAG',\n",
       "       'HTGDIFF', 'ATGDIFF', 'AVGHTGDIFF', 'AVGFTHG', 'HS', 'AS', 'HST', 'AST',\n",
       "       'HC', 'AC', 'HF', 'AF', 'HY', 'AY', 'HR', 'AR', '1', '2', '3', '4', '5',\n",
       "       '6', '7', '8', '9', '10', '11', '12', '13', '14', '15', '16', '17',\n",
       "       '18', '19', '20', '21', '22', '23'],\n",
       "      dtype='object')"
      ]
     },
     "execution_count": 16,
     "metadata": {},
     "output_type": "execute_result"
    }
   ],
   "source": [
    "df_team_with_past_HTGDIFF.columns"
   ]
  },
  {
   "cell_type": "code",
   "execution_count": 17,
   "metadata": {},
   "outputs": [],
   "source": [
    "d = dict()\n",
    "team_with_past_HST = dict()\n",
    "\n",
    "for team in all_teams:\n",
    "    n_homegames = len(df_team_with_past_HTGDIFF[df_team_with_past_HTGDIFF['HomeTeam']==team])\n",
    "    team_with_past_HST[team] = df_team_with_past_HTGDIFF[df_team_with_past_HTGDIFF['HomeTeam']==team]\n",
    "    for i in range(1, n_homegames):\n",
    "        d[i] = team_with_past_HST[team].assign(\n",
    "            HST_1=team_with_past_HST[team].groupby('HomeTeam')['HST'].shift(-1)\n",
    "        ).fillna({'HST_1': 0})\n",
    "        team_with_past_HST[team]['HST_1'] = d[i].HST_1"
   ]
  },
  {
   "cell_type": "code",
   "execution_count": 18,
   "metadata": {},
   "outputs": [],
   "source": [
    "df_team_with_past_HST = from_dict_value_to_df(team_with_past_HST)"
   ]
  },
  {
   "cell_type": "code",
   "execution_count": 19,
   "metadata": {},
   "outputs": [],
   "source": [
    "df_team_with_past_HST = df_team_with_past_HST.reindex(columns=[\n",
    "    'Day', 'Month', 'Year', 'HomeTeam', 'AwayTeam', 'FTHG', 'FTAG',\n",
    "    'HTGDIFF', 'ATGDIFF', 'AVGHTGDIFF', 'AVGFTHG','HS', 'AS', 'HST', 'AST', 'HC', 'AC', 'HF', 'AF', 'HY', 'AY', 'HR', 'AR', '1', '2', '3', '4', '5', '6', '7',\n",
    "    '8', '9', '10', '11', '12', '13', '14', '15', '16', '17', '18', '19',\n",
    "    '20', '21', '22', '23', 'HST_1'\n",
    "])"
   ]
  },
  {
   "cell_type": "code",
   "execution_count": 20,
   "metadata": {},
   "outputs": [],
   "source": [
    "df_team_with_past_HST.sort_values(['Year', 'Month','Day'], ascending=False,inplace=True)"
   ]
  },
  {
   "cell_type": "code",
   "execution_count": 21,
   "metadata": {},
   "outputs": [],
   "source": [
    "df_team_with_past_HST.to_excel('df_team_with_past_HST_home.xlsx')"
   ]
  },
  {
   "cell_type": "code",
   "execution_count": 22,
   "metadata": {},
   "outputs": [],
   "source": [
    "df_result = df_team_with_past_HST.copy()"
   ]
  },
  {
   "cell_type": "code",
   "execution_count": 23,
   "metadata": {},
   "outputs": [],
   "source": [
    "df_result = df_result.drop(['HomeTeam', 'AwayTeam'], axis = 1)"
   ]
  },
  {
   "cell_type": "code",
   "execution_count": 24,
   "metadata": {},
   "outputs": [
    {
     "name": "stdout",
     "output_type": "stream",
     "text": [
      "Shape of features: (441, 45)\n"
     ]
    }
   ],
   "source": [
    "print('Shape of features:', df_result.shape)"
   ]
  },
  {
   "cell_type": "markdown",
   "metadata": {},
   "source": [
    "## Features and Labels and Convert Data to Arrays"
   ]
  },
  {
   "cell_type": "code",
   "execution_count": 25,
   "metadata": {},
   "outputs": [],
   "source": [
    "# Labels are the values we want to predict\n",
    "labels = np.array(df_result['FTHG'])\n",
    "\n",
    "# Remove the labels from the features\n",
    "# axis 1 refers to the columns\n",
    "df_result= df_result.drop(['FTHG', 'FTAG', 'HTGDIFF', 'ATGDIFF', 'HS', 'AS', 'HST', 'AST', 'HC', 'AC', 'HF', 'AF', 'HY', 'AY', 'HR', 'AR'], axis = 1)\n",
    "\n",
    "# Saving feature names for later use\n",
    "feature_list = list(df_result.columns)\n",
    "\n",
    "# Convert to numpy array\n",
    "df_result = np.array(df_result)"
   ]
  },
  {
   "cell_type": "markdown",
   "metadata": {},
   "source": [
    "## Training and Testing Sets"
   ]
  },
  {
   "cell_type": "code",
   "execution_count": 26,
   "metadata": {},
   "outputs": [],
   "source": [
    "# Using Skicit-learn to split data into training and testing sets\n",
    "from sklearn.model_selection import train_test_split\n",
    "\n",
    "# Split the data into training and testing sets\n",
    "train_features, test_features, train_labels, test_labels = train_test_split(\n",
    "    df_result, labels, test_size = 0.25,random_state = 42\n",
    ")\n",
    "                "
   ]
  },
  {
   "cell_type": "code",
   "execution_count": 27,
   "metadata": {},
   "outputs": [
    {
     "name": "stdout",
     "output_type": "stream",
     "text": [
      "Training Features Shape: (330, 29)\n",
      "Training Labels Shape: (330,)\n",
      "Testing Features Shape: (111, 29)\n",
      "Testing Labels Shape: (111,)\n"
     ]
    }
   ],
   "source": [
    "print('Training Features Shape:', train_features.shape)\n",
    "print('Training Labels Shape:', train_labels.shape)\n",
    "print('Testing Features Shape:', test_features.shape)\n",
    "print('Testing Labels Shape:', test_labels.shape)"
   ]
  },
  {
   "cell_type": "markdown",
   "metadata": {},
   "source": [
    "## Establish Baseline"
   ]
  },
  {
   "cell_type": "code",
   "execution_count": 28,
   "metadata": {},
   "outputs": [
    {
     "name": "stdout",
     "output_type": "stream",
     "text": [
      "Average baseline error:  1.11 Goals.\n"
     ]
    }
   ],
   "source": [
    "# The baseline predictions are the historical averages\n",
    "baseline_preds = train_features[:, feature_list.index('AVGFTHG')]\n",
    "# AVerage goals made by home team\n",
    "\n",
    "# Baseline errors, and display average baseline error\n",
    "baseline_errors = abs(baseline_preds - train_labels)\n",
    "print('Average baseline error: ', round(np.mean(baseline_errors), 2), 'Goals.')"
   ]
  },
  {
   "cell_type": "markdown",
   "metadata": {},
   "source": [
    "## Train Model"
   ]
  },
  {
   "cell_type": "code",
   "execution_count": 29,
   "metadata": {},
   "outputs": [],
   "source": [
    "# Import the model we are using\n",
    "from sklearn.ensemble import RandomForestRegressor\n",
    "\n",
    "# Instantiate model \n",
    "rf = RandomForestRegressor(n_estimators= 1000, random_state=42)\n",
    "\n",
    "# Train the model on training data\n",
    "rf.fit(train_features, train_labels);"
   ]
  },
  {
   "cell_type": "markdown",
   "metadata": {},
   "source": [
    "## Make Predictions on Test Data"
   ]
  },
  {
   "cell_type": "code",
   "execution_count": 30,
   "metadata": {},
   "outputs": [
    {
     "name": "stdout",
     "output_type": "stream",
     "text": [
      "Mean Absolute Error: 1.06 Goals.\n"
     ]
    }
   ],
   "source": [
    "# Use the forest's predict method on the test data\n",
    "predictions = rf.predict(test_features)\n",
    "\n",
    "# Calculate the absolute errors\n",
    "errors = abs(predictions - test_labels)\n",
    "\n",
    "# Print out the mean absolute error (mae)\n",
    "print('Mean Absolute Error:', round(np.mean(errors), 2), 'Goals.')"
   ]
  },
  {
   "cell_type": "code",
   "execution_count": 31,
   "metadata": {},
   "outputs": [
    {
     "name": "stdout",
     "output_type": "stream",
     "text": [
      "(2.0, 2.0)\n",
      "(1.0, 2.0)\n",
      "(1.0, 3.0)\n",
      "(2.0, 1.0)\n",
      "(1.0, 2.0)\n",
      "(2.0, 0.0)\n",
      "(3.0, 1.0)\n",
      "(2.0, 0.0)\n",
      "(2.0, 1.0)\n",
      "(4.0, 7.0)\n",
      "(2.0, 0.0)\n",
      "(1.0, 1.0)\n",
      "(2.0, 1.0)\n",
      "(2.0, 1.0)\n",
      "(1.0, 3.0)\n",
      "(1.0, 3.0)\n",
      "(2.0, 5.0)\n",
      "(2.0, 3.0)\n",
      "(1.0, 1.0)\n",
      "(4.0, 5.0)\n",
      "(1.0, 2.0)\n",
      "(2.0, 4.0)\n",
      "(2.0, 2.0)\n",
      "(2.0, 2.0)\n",
      "(2.0, 1.0)\n",
      "(2.0, 6.0)\n",
      "(1.0, 1.0)\n",
      "(1.0, 5.0)\n",
      "(2.0, 3.0)\n",
      "(1.0, 1.0)\n",
      "(2.0, 1.0)\n",
      "(2.0, 1.0)\n",
      "(1.0, 3.0)\n",
      "(2.0, 1.0)\n",
      "(3.0, 4.0)\n",
      "(2.0, 2.0)\n",
      "(2.0, 2.0)\n",
      "(2.0, 0.0)\n",
      "(2.0, 1.0)\n",
      "(2.0, 1.0)\n",
      "(2.0, 1.0)\n",
      "(4.0, 4.0)\n",
      "(2.0, 0.0)\n",
      "(2.0, 0.0)\n",
      "(3.0, 2.0)\n",
      "(4.0, 1.0)\n",
      "(3.0, 1.0)\n",
      "(3.0, 0.0)\n",
      "(3.0, 2.0)\n",
      "(2.0, 1.0)\n",
      "(1.0, 3.0)\n",
      "(3.0, 3.0)\n",
      "(2.0, 2.0)\n",
      "(2.0, 3.0)\n",
      "(1.0, 0.0)\n",
      "(1.0, 0.0)\n",
      "(2.0, 0.0)\n",
      "(1.0, 2.0)\n",
      "(2.0, 2.0)\n",
      "(1.0, 3.0)\n",
      "(1.0, 0.0)\n",
      "(4.0, 0.0)\n",
      "(2.0, 2.0)\n",
      "(2.0, 2.0)\n",
      "(2.0, 3.0)\n",
      "(2.0, 1.0)\n",
      "(1.0, 1.0)\n",
      "(3.0, 0.0)\n",
      "(2.0, 1.0)\n",
      "(2.0, 2.0)\n",
      "(1.0, 1.0)\n",
      "(4.0, 3.0)\n",
      "(2.0, 2.0)\n",
      "(1.0, 1.0)\n",
      "(2.0, 1.0)\n",
      "(1.0, 0.0)\n",
      "(1.0, 0.0)\n",
      "(1.0, 0.0)\n",
      "(2.0, 3.0)\n",
      "(2.0, 1.0)\n",
      "(2.0, 2.0)\n",
      "(1.0, 1.0)\n",
      "(1.0, 3.0)\n",
      "(2.0, 1.0)\n",
      "(2.0, 2.0)\n",
      "(3.0, 2.0)\n",
      "(3.0, 3.0)\n",
      "(1.0, 2.0)\n",
      "(2.0, 2.0)\n",
      "(2.0, 2.0)\n",
      "(1.0, 0.0)\n",
      "(1.0, 2.0)\n",
      "(1.0, 1.0)\n",
      "(2.0, 2.0)\n",
      "(1.0, 2.0)\n",
      "(4.0, 1.0)\n",
      "(1.0, 2.0)\n",
      "(2.0, 3.0)\n",
      "(2.0, 2.0)\n",
      "(2.0, 1.0)\n",
      "(1.0, 2.0)\n",
      "(1.0, 0.0)\n",
      "(1.0, 3.0)\n",
      "(0.0, 0.0)\n",
      "(1.0, 2.0)\n",
      "(2.0, 2.0)\n",
      "(2.0, 1.0)\n",
      "(1.0, 0.0)\n",
      "(1.0, 2.0)\n",
      "(2.0, 2.0)\n",
      "(2.0, 1.0)\n"
     ]
    }
   ],
   "source": [
    "for i in zip(np.round(predictions,0), test_labels):\n",
    "    print(i)"
   ]
  },
  {
   "cell_type": "markdown",
   "metadata": {},
   "source": [
    "## Determine Performance Metrics"
   ]
  },
  {
   "cell_type": "code",
   "execution_count": 32,
   "metadata": {},
   "outputs": [
    {
     "name": "stdout",
     "output_type": "stream",
     "text": [
      "Accuracy: 57.06 %.\n"
     ]
    }
   ],
   "source": [
    "# Calculate mean absolute percentage error (MAPE)\n",
    "err = errors/test_labels\n",
    "err[np.isnan(err)] = 0\n",
    "mape = err * 100\n",
    "mape[mape == inf] = 0\n",
    "\n",
    "# Calculate and display accuracy\n",
    "accuracy = 100 - np.mean(mape)\n",
    "print('Accuracy:', round(accuracy, 2), '%.')"
   ]
  },
  {
   "cell_type": "markdown",
   "metadata": {},
   "source": [
    "## Interpret Model Results"
   ]
  },
  {
   "cell_type": "markdown",
   "metadata": {},
   "source": [
    "### Visualizing a Single Decision Tree"
   ]
  },
  {
   "cell_type": "code",
   "execution_count": 33,
   "metadata": {},
   "outputs": [],
   "source": [
    "# Import tools needed for visualization\n",
    "from sklearn.tree import export_graphviz\n",
    "import pydot\n",
    "# Pull out one tree from the forest\n",
    "tree = rf.estimators_[5]\n",
    "# Import tools needed for visualization\n",
    "from sklearn.tree import export_graphviz\n",
    "import pydot\n",
    "# Pull out one tree from the forest\n",
    "tree = rf.estimators_[5]\n",
    "# Export the image to a dot file\n",
    "export_graphviz(tree, out_file = 'tree_home.dot', feature_names = feature_list, rounded = True, precision = 1)\n",
    "# Use dot file to create a graph\n",
    "(graph, ) = pydot.graph_from_dot_file('tree_home.dot')\n",
    "# Write graph to a png file\n",
    "graph.write_png('tree_home.png')"
   ]
  },
  {
   "cell_type": "code",
   "execution_count": 34,
   "metadata": {},
   "outputs": [
    {
     "name": "stdout",
     "output_type": "stream",
     "text": [
      "The depth of this tree is: 18\n"
     ]
    }
   ],
   "source": [
    "print('The depth of this tree is:', tree.tree_.max_depth)"
   ]
  },
  {
   "cell_type": "code",
   "execution_count": 35,
   "metadata": {},
   "outputs": [],
   "source": [
    "\n",
    "# Limit depth of tree to 2 levels\n",
    "rf_small = RandomForestRegressor(n_estimators=10, max_depth = 3, random_state=42)\n",
    "rf_small.fit(train_features, train_labels)\n",
    "\n",
    "# Extract the small tree\n",
    "tree_small = rf_small.estimators_[5]\n",
    "\n",
    "# Save the tree as a png image\n",
    "export_graphviz(tree_small, out_file = 'small_tree_home.dot', feature_names = feature_list, rounded = True, precision = 1)\n",
    "\n",
    "(graph, ) = pydot.graph_from_dot_file('small_tree_home.dot')\n",
    "\n",
    "graph.write_png('small_tree_home.png');"
   ]
  },
  {
   "cell_type": "markdown",
   "metadata": {},
   "source": [
    "### Variable Importances"
   ]
  },
  {
   "cell_type": "code",
   "execution_count": 36,
   "metadata": {},
   "outputs": [
    {
     "name": "stdout",
     "output_type": "stream",
     "text": [
      "Variable: AVGFTHG              Importance: 0.24581\n",
      "Variable: AVGHTGDIFF           Importance: 0.09148\n",
      "Variable: Day                  Importance: 0.06902\n",
      "Variable: 3                    Importance: 0.04949\n",
      "Variable: HST_1                Importance: 0.04727\n",
      "Variable: 1                    Importance: 0.04578\n",
      "Variable: 8                    Importance: 0.04038\n",
      "Variable: 11                   Importance: 0.0399\n",
      "Variable: 7                    Importance: 0.03815\n",
      "Variable: Month                Importance: 0.03734\n",
      "Variable: 6                    Importance: 0.03493\n",
      "Variable: 12                   Importance: 0.03446\n",
      "Variable: 4                    Importance: 0.03271\n",
      "Variable: 2                    Importance: 0.03205\n",
      "Variable: 5                    Importance: 0.02468\n",
      "Variable: 9                    Importance: 0.02181\n",
      "Variable: 18                   Importance: 0.01757\n",
      "Variable: 14                   Importance: 0.01465\n",
      "Variable: 10                   Importance: 0.01296\n",
      "Variable: 13                   Importance: 0.0123\n",
      "Variable: 19                   Importance: 0.01194\n",
      "Variable: Year                 Importance: 0.0097\n",
      "Variable: 16                   Importance: 0.00891\n",
      "Variable: 17                   Importance: 0.00836\n",
      "Variable: 15                   Importance: 0.00829\n",
      "Variable: 20                   Importance: 0.00533\n",
      "Variable: 21                   Importance: 0.00232\n",
      "Variable: 22                   Importance: 0.00145\n",
      "Variable: 23                   Importance: 0.00097\n"
     ]
    }
   ],
   "source": [
    "importances = list(rf.feature_importances_)\n",
    "\n",
    "# List of tuples with variable and importance\n",
    "feature_importances = [(feature, round(importance, 5)) for feature, importance in zip(feature_list, importances)]\n",
    "\n",
    "# Sort the feature importances by most important first\n",
    "feature_importances = sorted(feature_importances, key = lambda x: x[1], reverse = True)\n",
    "\n",
    "# Print out the feature and importances \n",
    "[print('Variable: {:20} Importance: {}'.format(*pair)) for pair in feature_importances];"
   ]
  },
  {
   "cell_type": "markdown",
   "metadata": {},
   "source": [
    "### Predictions and Actual Values"
   ]
  },
  {
   "cell_type": "code",
   "execution_count": 37,
   "metadata": {},
   "outputs": [],
   "source": [
    "# Dates of training values\n",
    "months = df_result[:, feature_list.index('Month')]\n",
    "days = df_result[:, feature_list.index('Day')]\n",
    "years = df_result[:, feature_list.index('Year')]\n",
    "\n",
    "# List and then convert to datetime object\n",
    "dates = [str(int(year)) + '-' + str(int(month)) + '-' + str(int(day)) for year, month, day in zip(years, months, days)]\n",
    "dates = [datetime.datetime.strptime(date, '%Y-%m-%d') for date in dates]\n",
    "\n",
    "# Dataframe with true values and dates\n",
    "true_data = pd.DataFrame(data = {'date': dates, 'actual': labels})\n",
    "\n",
    "# Dates of predictions\n",
    "months = test_features[:, feature_list.index('Month')]\n",
    "days = test_features[:, feature_list.index('Day')]\n",
    "years = test_features[:, feature_list.index('Year')]\n",
    "\n",
    "# Column of dates\n",
    "test_dates = [str(int(year)) + '-' + str(int(month)) + '-' + str(int(day)) for year, month, day in zip(years, months, days)]\n",
    "\n",
    "# Convert to datetime objects\n",
    "test_dates = [datetime.datetime.strptime(date, '%Y-%m-%d') for date in test_dates]\n",
    "\n",
    "# Dataframe with predictions and dates\n",
    "predictions_data = pd.DataFrame(data = {'date': test_dates, 'prediction': predictions})"
   ]
  },
  {
   "cell_type": "code",
   "execution_count": 38,
   "metadata": {},
   "outputs": [],
   "source": [
    "sns.set(style='whitegrid', rc={'figure.figsize':(11.7,8.27)})\n",
    "sns.set_context('talk')"
   ]
  },
  {
   "cell_type": "code",
   "execution_count": 39,
   "metadata": {},
   "outputs": [
    {
     "data": {
      "image/png": "[encoded data removed]",
      "text/plain": [
       "<Figure size 842.4x595.44 with 1 Axes>"
      ]
     },
     "metadata": {},
     "output_type": "display_data"
    }
   ],
   "source": [
    "# Plot the actual values\n",
    "plt.plot(true_data['date'], true_data['actual'], 'b-', label = 'actual')\n",
    "\n",
    "# Plot the predicted values\n",
    "plt.plot(predictions_data['date'], predictions_data['prediction'], 'ro', label = 'prediction')\n",
    "plt.xticks(rotation = '60'); \n",
    "plt.legend()\n",
    "\n",
    "# Graph labels\n",
    "plt.xlabel('Date'); plt.ylabel('FTHG'); plt.title('Actual and Predicted Values');\n"
   ]
  },
  {
   "cell_type": "code",
   "execution_count": null,
   "metadata": {},
   "outputs": [],
   "source": []
  }
 ],
 "metadata": {
  "kernelspec": {
   "display_name": "Python 3",
   "language": "python",
   "name": "python3"
  },
  "language_info": {
   "codemirror_mode": {
    "name": "ipython",
    "version": 3
   },
   "file_extension": ".py",
   "mimetype": "text/x-python",
   "name": "python",
   "nbconvert_exporter": "python",
   "pygments_lexer": "ipython3",
   "version": "3.7.5"
  }
 },
 "nbformat": 4,
 "nbformat_minor": 2
}
